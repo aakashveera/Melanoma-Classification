{
 "cells": [
  {
   "cell_type": "code",
   "execution_count": 1,
   "metadata": {
    "_cell_guid": "b1076dfc-b9ad-4769-8c92-a6c4dae69d19",
    "_uuid": "8f2839f25d086af736a60e9eeb907d3b93b6e0e5",
    "execution": {
     "iopub.execute_input": "2020-08-12T14:28:54.809337Z",
     "iopub.status.busy": "2020-08-12T14:28:54.808457Z",
     "iopub.status.idle": "2020-08-12T14:28:55.979378Z",
     "shell.execute_reply": "2020-08-12T14:28:55.978286Z"
    },
    "papermill": {
     "duration": 1.208021,
     "end_time": "2020-08-12T14:28:55.979546",
     "exception": false,
     "start_time": "2020-08-12T14:28:54.771525",
     "status": "completed"
    },
    "tags": []
   },
   "outputs": [],
   "source": [
    "import pandas as pd\n",
    "import numpy as np\n",
    "import matplotlib\n",
    "import matplotlib.pyplot as plt\n",
    "import seaborn as sns\n",
    "import os\n",
    "import random\n",
    "import re\n",
    "import math\n",
    "import time\n",
    "from tqdm import tqdm\n",
    "import warnings\n",
    "warnings.filterwarnings('ignore')"
   ]
  },
  {
   "cell_type": "code",
   "execution_count": 2,
   "metadata": {
    "_cell_guid": "79c7e3d0-c299-4dcb-8224-4455121ee9b0",
    "_uuid": "d629ff2d2480ee46fbb7e2d37f6b5fab8052498a",
    "execution": {
     "iopub.execute_input": "2020-08-12T14:28:56.040993Z",
     "iopub.status.busy": "2020-08-12T14:28:56.040203Z",
     "iopub.status.idle": "2020-08-12T14:28:56.146166Z",
     "shell.execute_reply": "2020-08-12T14:28:56.145470Z"
    },
    "papermill": {
     "duration": 0.139084,
     "end_time": "2020-08-12T14:28:56.146326",
     "exception": false,
     "start_time": "2020-08-12T14:28:56.007242",
     "status": "completed"
    },
    "tags": []
   },
   "outputs": [],
   "source": [
    "train = pd.read_csv(\"/kaggle/input/siim-isic-melanoma-classification/train.csv\")\n",
    "test = pd.read_csv(\"/kaggle/input/siim-isic-melanoma-classification/test.csv\")\n",
    "sample = pd.read_csv(\"/kaggle/input/siim-isic-melanoma-classification/sample_submission.csv\")"
   ]
  },
  {
   "cell_type": "code",
   "execution_count": 3,
   "metadata": {
    "execution": {
     "iopub.execute_input": "2020-08-12T14:28:56.217701Z",
     "iopub.status.busy": "2020-08-12T14:28:56.216924Z",
     "iopub.status.idle": "2020-08-12T14:28:56.229989Z",
     "shell.execute_reply": "2020-08-12T14:28:56.229350Z"
    },
    "papermill": {
     "duration": 0.055587,
     "end_time": "2020-08-12T14:28:56.230113",
     "exception": false,
     "start_time": "2020-08-12T14:28:56.174526",
     "status": "completed"
    },
    "tags": []
   },
   "outputs": [
    {
     "data": {
      "text/html": [
       "<div>\n",
       "<style scoped>\n",
       "    .dataframe tbody tr th:only-of-type {\n",
       "        vertical-align: middle;\n",
       "    }\n",
       "\n",
       "    .dataframe tbody tr th {\n",
       "        vertical-align: top;\n",
       "    }\n",
       "\n",
       "    .dataframe thead th {\n",
       "        text-align: right;\n",
       "    }\n",
       "</style>\n",
       "<table border=\"1\" class=\"dataframe\">\n",
       "  <thead>\n",
       "    <tr style=\"text-align: right;\">\n",
       "      <th></th>\n",
       "      <th>image_name</th>\n",
       "      <th>patient_id</th>\n",
       "      <th>sex</th>\n",
       "      <th>age_approx</th>\n",
       "      <th>anatom_site_general_challenge</th>\n",
       "      <th>diagnosis</th>\n",
       "      <th>benign_malignant</th>\n",
       "      <th>target</th>\n",
       "    </tr>\n",
       "  </thead>\n",
       "  <tbody>\n",
       "    <tr>\n",
       "      <th>0</th>\n",
       "      <td>ISIC_2637011</td>\n",
       "      <td>IP_7279968</td>\n",
       "      <td>male</td>\n",
       "      <td>45.0</td>\n",
       "      <td>head/neck</td>\n",
       "      <td>unknown</td>\n",
       "      <td>benign</td>\n",
       "      <td>0</td>\n",
       "    </tr>\n",
       "    <tr>\n",
       "      <th>1</th>\n",
       "      <td>ISIC_0015719</td>\n",
       "      <td>IP_3075186</td>\n",
       "      <td>female</td>\n",
       "      <td>45.0</td>\n",
       "      <td>upper extremity</td>\n",
       "      <td>unknown</td>\n",
       "      <td>benign</td>\n",
       "      <td>0</td>\n",
       "    </tr>\n",
       "    <tr>\n",
       "      <th>2</th>\n",
       "      <td>ISIC_0052212</td>\n",
       "      <td>IP_2842074</td>\n",
       "      <td>female</td>\n",
       "      <td>50.0</td>\n",
       "      <td>lower extremity</td>\n",
       "      <td>nevus</td>\n",
       "      <td>benign</td>\n",
       "      <td>0</td>\n",
       "    </tr>\n",
       "    <tr>\n",
       "      <th>3</th>\n",
       "      <td>ISIC_0068279</td>\n",
       "      <td>IP_6890425</td>\n",
       "      <td>female</td>\n",
       "      <td>45.0</td>\n",
       "      <td>head/neck</td>\n",
       "      <td>unknown</td>\n",
       "      <td>benign</td>\n",
       "      <td>0</td>\n",
       "    </tr>\n",
       "    <tr>\n",
       "      <th>4</th>\n",
       "      <td>ISIC_0074268</td>\n",
       "      <td>IP_8723313</td>\n",
       "      <td>female</td>\n",
       "      <td>55.0</td>\n",
       "      <td>upper extremity</td>\n",
       "      <td>unknown</td>\n",
       "      <td>benign</td>\n",
       "      <td>0</td>\n",
       "    </tr>\n",
       "  </tbody>\n",
       "</table>\n",
       "</div>"
      ],
      "text/plain": [
       "     image_name  patient_id     sex  age_approx anatom_site_general_challenge  \\\n",
       "0  ISIC_2637011  IP_7279968    male        45.0                     head/neck   \n",
       "1  ISIC_0015719  IP_3075186  female        45.0               upper extremity   \n",
       "2  ISIC_0052212  IP_2842074  female        50.0               lower extremity   \n",
       "3  ISIC_0068279  IP_6890425  female        45.0                     head/neck   \n",
       "4  ISIC_0074268  IP_8723313  female        55.0               upper extremity   \n",
       "\n",
       "  diagnosis benign_malignant  target  \n",
       "0   unknown           benign       0  \n",
       "1   unknown           benign       0  \n",
       "2     nevus           benign       0  \n",
       "3   unknown           benign       0  \n",
       "4   unknown           benign       0  "
      ]
     },
     "execution_count": 3,
     "metadata": {},
     "output_type": "execute_result"
    }
   ],
   "source": [
    "train.head()"
   ]
  },
  {
   "cell_type": "code",
   "execution_count": 4,
   "metadata": {
    "execution": {
     "iopub.execute_input": "2020-08-12T14:28:56.300572Z",
     "iopub.status.busy": "2020-08-12T14:28:56.299838Z",
     "iopub.status.idle": "2020-08-12T14:29:07.547081Z",
     "shell.execute_reply": "2020-08-12T14:29:07.546271Z"
    },
    "papermill": {
     "duration": 11.284304,
     "end_time": "2020-08-12T14:29:07.547209",
     "exception": false,
     "start_time": "2020-08-12T14:28:56.262905",
     "status": "completed"
    },
    "tags": []
   },
   "outputs": [
    {
     "name": "stdout",
     "output_type": "stream",
     "text": [
      "\u001b[33mWARNING: You are using pip version 20.1.1; however, version 20.2.2 is available.\r\n",
      "You should consider upgrading via the '/opt/conda/bin/python3.7 -m pip install --upgrade pip' command.\u001b[0m\r\n"
     ]
    }
   ],
   "source": [
    "!pip install -q efficientnet"
   ]
  },
  {
   "cell_type": "code",
   "execution_count": 5,
   "metadata": {
    "execution": {
     "iopub.execute_input": "2020-08-12T14:29:07.610171Z",
     "iopub.status.busy": "2020-08-12T14:29:07.609452Z",
     "iopub.status.idle": "2020-08-12T14:29:14.387377Z",
     "shell.execute_reply": "2020-08-12T14:29:14.386520Z"
    },
    "papermill": {
     "duration": 6.81206,
     "end_time": "2020-08-12T14:29:14.387509",
     "exception": false,
     "start_time": "2020-08-12T14:29:07.575449",
     "status": "completed"
    },
    "tags": []
   },
   "outputs": [],
   "source": [
    "import tensorflow as tf\n",
    "import tensorflow.keras.backend as K\n",
    "import efficientnet.tfkeras as efn\n",
    "from kaggle_datasets import KaggleDatasets"
   ]
  },
  {
   "cell_type": "code",
   "execution_count": 6,
   "metadata": {
    "execution": {
     "iopub.execute_input": "2020-08-12T14:29:14.454002Z",
     "iopub.status.busy": "2020-08-12T14:29:14.452122Z",
     "iopub.status.idle": "2020-08-12T14:29:23.695039Z",
     "shell.execute_reply": "2020-08-12T14:29:23.694229Z"
    },
    "papermill": {
     "duration": 9.279513,
     "end_time": "2020-08-12T14:29:23.695176",
     "exception": false,
     "start_time": "2020-08-12T14:29:14.415663",
     "status": "completed"
    },
    "tags": []
   },
   "outputs": [],
   "source": [
    "GCS_PATH = KaggleDatasets().get_gcs_path('melanoma-512x512')\n",
    "GCS_PATH2 = KaggleDatasets().get_gcs_path('malignant-v2-512x512')\n",
    "GCS_PATH3 = KaggleDatasets().get_gcs_path('isic2019-512x512')\n",
    "filenames_train1 = tf.io.gfile.glob(GCS_PATH + '/train*.tfrec')\n",
    "filenames_train2 = tf.io.gfile.glob(GCS_PATH2 + '/train%.2i*.tfrec'%(2*x) for x in range(25))\n",
    "filenames_train3 = tf.io.gfile.glob(GCS_PATH3 + '/train%.2i*.tfrec'%(2*x) for x in range(25))\n",
    "filenames_test = np.array(tf.io.gfile.glob(GCS_PATH + '/test*.tfrec'))"
   ]
  },
  {
   "cell_type": "code",
   "execution_count": 7,
   "metadata": {
    "execution": {
     "iopub.execute_input": "2020-08-12T14:29:23.758723Z",
     "iopub.status.busy": "2020-08-12T14:29:23.757857Z",
     "iopub.status.idle": "2020-08-12T14:29:23.761069Z",
     "shell.execute_reply": "2020-08-12T14:29:23.760328Z"
    },
    "papermill": {
     "duration": 0.037568,
     "end_time": "2020-08-12T14:29:23.761191",
     "exception": false,
     "start_time": "2020-08-12T14:29:23.723623",
     "status": "completed"
    },
    "tags": []
   },
   "outputs": [],
   "source": [
    "filenames_train = np.array(filenames_train1+filenames_train2+filenames_train3)\n",
    "np.random.shuffle(filenames_train)\n",
    "np.random.shuffle(filenames_train)"
   ]
  },
  {
   "cell_type": "code",
   "execution_count": 8,
   "metadata": {
    "execution": {
     "iopub.execute_input": "2020-08-12T14:29:23.920465Z",
     "iopub.status.busy": "2020-08-12T14:29:23.825908Z",
     "iopub.status.idle": "2020-08-12T14:29:28.185902Z",
     "shell.execute_reply": "2020-08-12T14:29:28.186511Z"
    },
    "papermill": {
     "duration": 4.39745,
     "end_time": "2020-08-12T14:29:28.186706",
     "exception": false,
     "start_time": "2020-08-12T14:29:23.789256",
     "status": "completed"
    },
    "tags": []
   },
   "outputs": [
    {
     "name": "stdout",
     "output_type": "stream",
     "text": [
      "Running on TPU  grpc://10.0.0.2:8470\n",
      "REPLICAS:  8\n"
     ]
    }
   ],
   "source": [
    "try:\n",
    "    tpu = tf.distribute.cluster_resolver.TPUClusterResolver()\n",
    "    print('Running on TPU ', tpu.master())\n",
    "except ValueError:\n",
    "    tpu = None\n",
    "\n",
    "if tpu:\n",
    "    tf.config.experimental_connect_to_cluster(tpu)\n",
    "    tf.tpu.experimental.initialize_tpu_system(tpu)\n",
    "    strategy = tf.distribute.experimental.TPUStrategy(tpu)\n",
    "else:\n",
    "    strategy = tf.distribute.get_strategy()\n",
    "    print(\"Num GPUs Available: \", len(tf.config.experimental.list_physical_devices('GPU')))\n",
    "\n",
    "print(\"REPLICAS: \", strategy.num_replicas_in_sync)"
   ]
  },
  {
   "cell_type": "code",
   "execution_count": 9,
   "metadata": {
    "execution": {
     "iopub.execute_input": "2020-08-12T14:29:28.250669Z",
     "iopub.status.busy": "2020-08-12T14:29:28.249637Z",
     "iopub.status.idle": "2020-08-12T14:29:28.252530Z",
     "shell.execute_reply": "2020-08-12T14:29:28.253267Z"
    },
    "papermill": {
     "duration": 0.037786,
     "end_time": "2020-08-12T14:29:28.253441",
     "exception": false,
     "start_time": "2020-08-12T14:29:28.215655",
     "status": "completed"
    },
    "tags": []
   },
   "outputs": [],
   "source": [
    "AUTO = tf.data.experimental.AUTOTUNE"
   ]
  },
  {
   "cell_type": "code",
   "execution_count": 10,
   "metadata": {
    "execution": {
     "iopub.execute_input": "2020-08-12T14:29:28.321655Z",
     "iopub.status.busy": "2020-08-12T14:29:28.320552Z",
     "iopub.status.idle": "2020-08-12T14:29:28.324279Z",
     "shell.execute_reply": "2020-08-12T14:29:28.323551Z"
    },
    "papermill": {
     "duration": 0.041345,
     "end_time": "2020-08-12T14:29:28.324415",
     "exception": false,
     "start_time": "2020-08-12T14:29:28.283070",
     "status": "completed"
    },
    "tags": []
   },
   "outputs": [],
   "source": [
    "cfg = dict(\n",
    "           batch_size=32,\n",
    "           img_size=512,\n",
    "    \n",
    "           lr_start=0.000005,\n",
    "           lr_max=0.00000125,\n",
    "           lr_min=0.000001,\n",
    "           lr_rampup=5,\n",
    "           lr_sustain=0,\n",
    "           lr_decay=0.8,\n",
    "           epochs=12,\n",
    "    \n",
    "           transform_prob=1.0,\n",
    "           rot=180.0,\n",
    "           shr=2.0,\n",
    "           hzoom=8.0,\n",
    "           wzoom=8.0,\n",
    "           hshift=8.0,\n",
    "           wshift=8.0,\n",
    "    \n",
    "           optimizer='adam',\n",
    "           label_smooth_fac=0.05,\n",
    "           tta_steps=20\n",
    "            \n",
    "        )"
   ]
  },
  {
   "cell_type": "code",
   "execution_count": 11,
   "metadata": {
    "execution": {
     "iopub.execute_input": "2020-08-12T14:29:28.400078Z",
     "iopub.status.busy": "2020-08-12T14:29:28.397027Z",
     "iopub.status.idle": "2020-08-12T14:29:28.403451Z",
     "shell.execute_reply": "2020-08-12T14:29:28.402866Z"
    },
    "papermill": {
     "duration": 0.050277,
     "end_time": "2020-08-12T14:29:28.403586",
     "exception": false,
     "start_time": "2020-08-12T14:29:28.353309",
     "status": "completed"
    },
    "tags": []
   },
   "outputs": [],
   "source": [
    "def get_mat(rotation, shear, height_zoom, width_zoom, height_shift, width_shift):\n",
    "\n",
    "    # CONVERT DEGREES TO RADIANS\n",
    "    rotation = math.pi * rotation / 180.\n",
    "    shear = math.pi * shear / 180.\n",
    "\n",
    "    # ROTATION MATRIX\n",
    "    c1 = tf.math.cos(rotation)\n",
    "    s1 = tf.math.sin(rotation)\n",
    "    one = tf.constant([1], dtype='float32')\n",
    "    zero = tf.constant([0], dtype='float32')\n",
    "    rotation_matrix = tf.reshape(\n",
    "        tf.concat([c1, s1, zero, -s1, c1, zero, zero, zero, one], axis=0),\n",
    "        [3, 3])\n",
    "\n",
    "    # SHEAR MATRIX\n",
    "    c2 = tf.math.cos(shear)\n",
    "    s2 = tf.math.sin(shear)\n",
    "    shear_matrix = tf.reshape(\n",
    "        tf.concat([one, s2, zero, zero, c2, zero, zero, zero, one], axis=0),\n",
    "        [3, 3])\n",
    "\n",
    "    # ZOOM MATRIX\n",
    "    zoom_matrix = tf.reshape(\n",
    "        tf.concat([\n",
    "            one / height_zoom, zero, zero, zero, one / width_zoom, zero, zero,\n",
    "            zero, one\n",
    "        ],axis=0), [3, 3])\n",
    "\n",
    "    # SHIFT MATRIX\n",
    "    shift_matrix = tf.reshape(\n",
    "        tf.concat(\n",
    "            [one, zero, height_shift, zero, one, width_shift, zero, zero, one],\n",
    "            axis=0), [3, 3])\n",
    "\n",
    "    return K.dot(K.dot(rotation_matrix, shear_matrix),\n",
    "                 K.dot(zoom_matrix, shift_matrix))\n"
   ]
  },
  {
   "cell_type": "code",
   "execution_count": 12,
   "metadata": {
    "execution": {
     "iopub.execute_input": "2020-08-12T14:29:28.480777Z",
     "iopub.status.busy": "2020-08-12T14:29:28.479767Z",
     "iopub.status.idle": "2020-08-12T14:29:28.483790Z",
     "shell.execute_reply": "2020-08-12T14:29:28.483171Z"
    },
    "papermill": {
     "duration": 0.051407,
     "end_time": "2020-08-12T14:29:28.483929",
     "exception": false,
     "start_time": "2020-08-12T14:29:28.432522",
     "status": "completed"
    },
    "tags": []
   },
   "outputs": [],
   "source": [
    "def transform(image, cfg):\n",
    "    \n",
    "    DIM = cfg['img_size']\n",
    "    XDIM = DIM % 2  # fix for size 331\n",
    "\n",
    "    rot = cfg['rot'] * tf.random.normal([1], dtype='float32')\n",
    "    shr = cfg['shr'] * tf.random.normal([1], dtype='float32')\n",
    "    h_zoom = 1.0 + tf.random.normal([1], dtype='float32') / cfg['hzoom']\n",
    "    w_zoom = 1.0 + tf.random.normal([1], dtype='float32') / cfg['wzoom']\n",
    "    h_shift = cfg['hshift'] * tf.random.normal([1], dtype='float32')\n",
    "    w_shift = cfg['wshift'] * tf.random.normal([1], dtype='float32')\n",
    "\n",
    "    # GET TRANSFORMATION MATRIX\n",
    "    m = get_mat(rot, shr, h_zoom, w_zoom, h_shift, w_shift)\n",
    "\n",
    "    # LIST DESTINATION PIXEL INDICES\n",
    "    x = tf.repeat(tf.range(DIM // 2, -DIM // 2, -1), DIM)\n",
    "    y = tf.tile(tf.range(-DIM // 2, DIM // 2), [DIM])\n",
    "    z = tf.ones([DIM * DIM], dtype='int32')\n",
    "    idx = tf.stack([x, y, z])\n",
    "\n",
    "    # ROTATE DESTINATION PIXELS ONTO ORIGIN PIXELS\n",
    "    idx2 = K.dot(m, tf.cast(idx, dtype='float32'))\n",
    "    idx2 = K.cast(idx2, dtype='int32')\n",
    "    idx2 = K.clip(idx2, -DIM // 2 + XDIM + 1, DIM // 2)\n",
    "\n",
    "    # FIND ORIGIN PIXEL VALUES\n",
    "    idx3 = tf.stack([DIM // 2 - idx2[0, ], DIM // 2 - 1 + idx2[1, ]])\n",
    "    d = tf.gather_nd(image, tf.transpose(idx3))\n",
    "\n",
    "    return tf.reshape(d, [DIM, DIM, 3])"
   ]
  },
  {
   "cell_type": "code",
   "execution_count": 13,
   "metadata": {
    "execution": {
     "iopub.execute_input": "2020-08-12T14:29:28.559963Z",
     "iopub.status.busy": "2020-08-12T14:29:28.555669Z",
     "iopub.status.idle": "2020-08-12T14:29:28.563212Z",
     "shell.execute_reply": "2020-08-12T14:29:28.562560Z"
    },
    "papermill": {
     "duration": 0.050373,
     "end_time": "2020-08-12T14:29:28.563343",
     "exception": false,
     "start_time": "2020-08-12T14:29:28.512970",
     "status": "completed"
    },
    "tags": []
   },
   "outputs": [],
   "source": [
    "def dropout(image, DIM=512, PROBABILITY = 0.75, CT = 8, SZ = 0.2):\n",
    "    # input image - is one image of size [dim,dim,3] not a batch of [b,dim,dim,3]\n",
    "    # output - image with CT squares of side size SZ*DIM removed\n",
    "    \n",
    "    # DO DROPOUT WITH PROBABILITY DEFINED ABOVE\n",
    "    P = tf.cast( tf.random.uniform([],0,1)<PROBABILITY, tf.int32)\n",
    "    if (P==0)|(CT==0)|(SZ==0): return image\n",
    "    \n",
    "    for k in range(CT):\n",
    "        # CHOOSE RANDOM LOCATION\n",
    "        x = tf.cast( tf.random.uniform([],0,DIM),tf.int32)\n",
    "        y = tf.cast( tf.random.uniform([],0,DIM),tf.int32)\n",
    "        # COMPUTE SQUARE \n",
    "        WIDTH = tf.cast( SZ*DIM,tf.int32) * P\n",
    "        ya = tf.math.maximum(0,y-WIDTH//2)\n",
    "        yb = tf.math.minimum(DIM,y+WIDTH//2)\n",
    "        xa = tf.math.maximum(0,x-WIDTH//2)\n",
    "        xb = tf.math.minimum(DIM,x+WIDTH//2)\n",
    "        # DROPOUT IMAGE\n",
    "        one = image[ya:yb,0:xa,:]\n",
    "        two = tf.zeros([yb-ya,xb-xa,3]) \n",
    "        three = image[ya:yb,xb:DIM,:]\n",
    "        middle = tf.concat([one,two,three],axis=1)\n",
    "        image = tf.concat([image[0:ya,:,:],middle,image[yb:DIM,:,:]],axis=0)\n",
    "            \n",
    "    # RESHAPE HACK SO TPU COMPILER KNOWS SHAPE OF OUTPUT TENSOR \n",
    "    image = tf.reshape(image,[DIM,DIM,3])\n",
    "    return image"
   ]
  },
  {
   "cell_type": "code",
   "execution_count": 14,
   "metadata": {
    "execution": {
     "iopub.execute_input": "2020-08-12T14:29:28.636611Z",
     "iopub.status.busy": "2020-08-12T14:29:28.635651Z",
     "iopub.status.idle": "2020-08-12T14:29:28.638830Z",
     "shell.execute_reply": "2020-08-12T14:29:28.638087Z"
    },
    "papermill": {
     "duration": 0.046433,
     "end_time": "2020-08-12T14:29:28.638970",
     "exception": false,
     "start_time": "2020-08-12T14:29:28.592537",
     "status": "completed"
    },
    "tags": []
   },
   "outputs": [],
   "source": [
    "def prepare_image(img, cfg=None,droprate=0.5,dropct=8,dropsize=0.2):\n",
    "    \n",
    "    img = tf.image.decode_jpeg(img, channels=3)\n",
    "    img = tf.image.resize(img, [cfg['img_size'], cfg['img_size']],\n",
    "                          antialias=True)\n",
    "    img = tf.cast(img, tf.float32) / 255.0\n",
    "\n",
    "    if cfg['transform_prob'] > tf.random.uniform([1], minval=0, maxval=1):\n",
    "        img = transform(img, cfg)\n",
    "    \n",
    "    if (tf.random.uniform([1], minval=0, maxval=1) > 0.5) & (droprate!=0)&(dropct!=0)&(dropsize!=0):\n",
    "        img = dropout(img, DIM=512, PROBABILITY=droprate, CT=dropct, SZ=dropsize)\n",
    "\n",
    "    img = tf.image.random_flip_left_right(img)\n",
    "    img = tf.image.random_saturation(img, 0.7, 1.3)\n",
    "    img = tf.image.random_contrast(img, 0.8, 1.2)\n",
    "    img = tf.image.random_brightness(img, 0.1)\n",
    "\n",
    "    return img"
   ]
  },
  {
   "cell_type": "code",
   "execution_count": 15,
   "metadata": {
    "execution": {
     "iopub.execute_input": "2020-08-12T14:29:28.706666Z",
     "iopub.status.busy": "2020-08-12T14:29:28.705733Z",
     "iopub.status.idle": "2020-08-12T14:29:28.708628Z",
     "shell.execute_reply": "2020-08-12T14:29:28.708017Z"
    },
    "papermill": {
     "duration": 0.040443,
     "end_time": "2020-08-12T14:29:28.708769",
     "exception": false,
     "start_time": "2020-08-12T14:29:28.668326",
     "status": "completed"
    },
    "tags": []
   },
   "outputs": [],
   "source": [
    "def read_labeled_tfrecord(example):\n",
    "    LABELED_TFREC_FORMAT = {\n",
    "        'image': tf.io.FixedLenFeature([], tf.string),\n",
    "        'image_name': tf.io.FixedLenFeature([], tf.string),\n",
    "        'target': tf.io.FixedLenFeature([], tf.int64)\n",
    "    }\n",
    "\n",
    "    example = tf.io.parse_single_example(example, LABELED_TFREC_FORMAT)\n",
    "    return example['image'], example['target']\n"
   ]
  },
  {
   "cell_type": "code",
   "execution_count": 16,
   "metadata": {
    "execution": {
     "iopub.execute_input": "2020-08-12T14:29:28.775513Z",
     "iopub.status.busy": "2020-08-12T14:29:28.774760Z",
     "iopub.status.idle": "2020-08-12T14:29:28.778776Z",
     "shell.execute_reply": "2020-08-12T14:29:28.778022Z"
    },
    "papermill": {
     "duration": 0.04077,
     "end_time": "2020-08-12T14:29:28.778901",
     "exception": false,
     "start_time": "2020-08-12T14:29:28.738131",
     "status": "completed"
    },
    "tags": []
   },
   "outputs": [],
   "source": [
    "def read_unlabeled_tfrecord(example):\n",
    "    UNLABELED_TFREC_FORMAT = {\n",
    "        'image': tf.io.FixedLenFeature([], tf.string),\n",
    "        'image_name': tf.io.FixedLenFeature([], tf.string)\n",
    "    }\n",
    "    example = tf.io.parse_single_example(example, UNLABELED_TFREC_FORMAT)\n",
    "    return example['image'], example['image_name']\n",
    "\n"
   ]
  },
  {
   "cell_type": "code",
   "execution_count": 17,
   "metadata": {
    "execution": {
     "iopub.execute_input": "2020-08-12T14:29:28.844399Z",
     "iopub.status.busy": "2020-08-12T14:29:28.843378Z",
     "iopub.status.idle": "2020-08-12T14:29:28.846877Z",
     "shell.execute_reply": "2020-08-12T14:29:28.846166Z"
    },
    "papermill": {
     "duration": 0.038907,
     "end_time": "2020-08-12T14:29:28.847003",
     "exception": false,
     "start_time": "2020-08-12T14:29:28.808096",
     "status": "completed"
    },
    "tags": []
   },
   "outputs": [],
   "source": [
    "def count_data_items(filenames):\n",
    "    n = [\n",
    "        int(re.compile(r'-([0-9]*)\\.').search(filename).group(1))\n",
    "        for filename in filenames\n",
    "    ]\n",
    "    return np.sum(n)"
   ]
  },
  {
   "cell_type": "code",
   "execution_count": 18,
   "metadata": {
    "execution": {
     "iopub.execute_input": "2020-08-12T14:29:28.915164Z",
     "iopub.status.busy": "2020-08-12T14:29:28.913744Z",
     "iopub.status.idle": "2020-08-12T14:29:28.918098Z",
     "shell.execute_reply": "2020-08-12T14:29:28.918658Z"
    },
    "papermill": {
     "duration": 0.042489,
     "end_time": "2020-08-12T14:29:28.918833",
     "exception": false,
     "start_time": "2020-08-12T14:29:28.876344",
     "status": "completed"
    },
    "tags": []
   },
   "outputs": [],
   "source": [
    "def getTrainDataset(files, cfg):\n",
    "    \n",
    "    ds = tf.data.TFRecordDataset(files, num_parallel_reads=AUTO)\n",
    "    ds = ds.cache()\n",
    "\n",
    "    opt = tf.data.Options()\n",
    "    opt.experimental_deterministic = False\n",
    "    ds = ds.with_options(opt)\n",
    "\n",
    "    ds = ds.map(read_labeled_tfrecord, num_parallel_calls=AUTO)\n",
    "    ds = ds.repeat()\n",
    "    \n",
    "    ds = ds.shuffle(2048)\n",
    "    ds = ds.map(lambda img, label:\n",
    "                (prepare_image(img, cfg=cfg), label),\n",
    "                num_parallel_calls=AUTO)\n",
    "    ds = ds.batch(cfg['batch_size'] * strategy.num_replicas_in_sync)\n",
    "    ds = ds.prefetch(AUTO)\n",
    "    return ds\n"
   ]
  },
  {
   "cell_type": "code",
   "execution_count": 19,
   "metadata": {
    "execution": {
     "iopub.execute_input": "2020-08-12T14:29:28.986779Z",
     "iopub.status.busy": "2020-08-12T14:29:28.985983Z",
     "iopub.status.idle": "2020-08-12T14:29:28.989488Z",
     "shell.execute_reply": "2020-08-12T14:29:28.988844Z"
    },
    "papermill": {
     "duration": 0.041771,
     "end_time": "2020-08-12T14:29:28.989616",
     "exception": false,
     "start_time": "2020-08-12T14:29:28.947845",
     "status": "completed"
    },
    "tags": []
   },
   "outputs": [],
   "source": [
    "\n",
    "def getTestDataset(files, cfg, augment=False, repeat=False):\n",
    "    \n",
    "    ds = tf.data.TFRecordDataset(files, num_parallel_reads=AUTO)\n",
    "    ds = ds.cache()\n",
    "    if repeat:\n",
    "        ds = ds.repeat()\n",
    "    ds = ds.map(read_unlabeled_tfrecord, num_parallel_calls=AUTO)\n",
    "    ds = ds.map(lambda img, idnum:\n",
    "                (prepare_image(img, cfg=cfg), idnum),\n",
    "                num_parallel_calls=AUTO)\n",
    "    ds = ds.batch(cfg['batch_size'] * strategy.num_replicas_in_sync)\n",
    "    ds = ds.prefetch(AUTO)\n",
    "    return ds"
   ]
  },
  {
   "cell_type": "code",
   "execution_count": 20,
   "metadata": {
    "execution": {
     "iopub.execute_input": "2020-08-12T14:29:29.058916Z",
     "iopub.status.busy": "2020-08-12T14:29:29.057854Z",
     "iopub.status.idle": "2020-08-12T14:29:29.061236Z",
     "shell.execute_reply": "2020-08-12T14:29:29.060505Z"
    },
    "papermill": {
     "duration": 0.042735,
     "end_time": "2020-08-12T14:29:29.061358",
     "exception": false,
     "start_time": "2020-08-12T14:29:29.018623",
     "status": "completed"
    },
    "tags": []
   },
   "outputs": [],
   "source": [
    "def getLearnRateCallback(cfg):\n",
    "    \n",
    "    lr_start = cfg['lr_start']\n",
    "    lr_max = cfg['lr_max'] * strategy.num_replicas_in_sync * cfg['batch_size']\n",
    "    lr_min = cfg['lr_min']\n",
    "    lr_rampup = cfg['lr_rampup']\n",
    "    lr_sustain = cfg['lr_sustain']\n",
    "    lr_decay = cfg['lr_decay']\n",
    "\n",
    "    def lrfn(epoch):\n",
    "        if epoch < lr_rampup:\n",
    "            lr = (lr_max - lr_start) / lr_rampup * epoch + lr_start\n",
    "        elif epoch < lr_rampup + lr_sustain:\n",
    "            lr = lr_max\n",
    "        else:\n",
    "            lr = (lr_max - lr_min) * lr_decay**(epoch - lr_rampup -\n",
    "                                                lr_sustain) + lr_min\n",
    "        return lr\n",
    "\n",
    "    lr_callback = tf.keras.callbacks.LearningRateScheduler(lrfn, verbose=False)\n",
    "    return lr_callback"
   ]
  },
  {
   "cell_type": "code",
   "execution_count": 21,
   "metadata": {
    "execution": {
     "iopub.execute_input": "2020-08-12T14:29:29.141474Z",
     "iopub.status.busy": "2020-08-12T14:29:29.140362Z",
     "iopub.status.idle": "2020-08-12T14:31:48.750753Z",
     "shell.execute_reply": "2020-08-12T14:31:48.749658Z"
    },
    "papermill": {
     "duration": 139.658918,
     "end_time": "2020-08-12T14:31:48.750896",
     "exception": false,
     "start_time": "2020-08-12T14:29:29.091978",
     "status": "completed"
    },
    "tags": []
   },
   "outputs": [
    {
     "name": "stdout",
     "output_type": "stream",
     "text": [
      "Downloading data from https://github.com/Callidior/keras-applications/releases/download/efficientnet/efficientnet-b3_weights_tf_dim_ordering_tf_kernels_autoaugment_notop.h5\n",
      "44113920/44107200 [==============================] - 2s 0us/step\n",
      "Downloading data from https://github.com/Callidior/keras-applications/releases/download/efficientnet/efficientnet-b4_weights_tf_dim_ordering_tf_kernels_autoaugment_notop.h5\n",
      "71892992/71892840 [==============================] - 3s 0us/step\n",
      "Downloading data from https://github.com/Callidior/keras-applications/releases/download/efficientnet/efficientnet-b5_weights_tf_dim_ordering_tf_kernels_autoaugment_notop.h5\n",
      "115515392/115515256 [==============================] - 4s 0us/step\n"
     ]
    }
   ],
   "source": [
    "with strategy.scope():\n",
    "    model_input = tf.keras.Input(shape=(cfg['img_size'], cfg['img_size'], 3),\n",
    "                                 name='img_input')\n",
    "\n",
    "    dummy = tf.keras.layers.Lambda(lambda x: x)(model_input)\n",
    "\n",
    "    outputs = []\n",
    "\n",
    "    x = efn.EfficientNetB3(include_top=False,\n",
    "                           weights='imagenet',\n",
    "                           input_shape=(cfg['img_size'], cfg['img_size'], 3),\n",
    "                           pooling='avg')(dummy)\n",
    "    x = tf.keras.layers.Dense(1, activation='sigmoid')(x)\n",
    "    outputs.append(x)\n",
    "\n",
    "    x = efn.EfficientNetB4(include_top=False,\n",
    "                           weights='imagenet',\n",
    "                           input_shape=(cfg['img_size'], cfg['img_size'], 3),\n",
    "                           pooling='avg')(dummy)\n",
    "    x = tf.keras.layers.Dense(1, activation='sigmoid')(x)\n",
    "    outputs.append(x)\n",
    "\n",
    "    x = efn.EfficientNetB5(include_top=False,\n",
    "                           weights='imagenet',\n",
    "                           input_shape=(cfg['img_size'], cfg['img_size'], 3),\n",
    "                           pooling='avg')(dummy)\n",
    "    x = tf.keras.layers.Dense(1, activation='sigmoid')(x)\n",
    "    outputs.append(x)\n",
    "    \n",
    "    model = tf.keras.Model(model_input, outputs, name='aNetwork')\n",
    "\n",
    "    model.compile(optimizer=cfg['optimizer'],\n",
    "                  loss=[\n",
    "                      tf.keras.losses.BinaryCrossentropy(\n",
    "                          label_smoothing=cfg['label_smooth_fac']),\n",
    "                      tf.keras.losses.BinaryCrossentropy(\n",
    "                          label_smoothing=cfg['label_smooth_fac']),\n",
    "                      tf.keras.losses.BinaryCrossentropy(\n",
    "                          label_smoothing=cfg['label_smooth_fac'])\n",
    "                  ],\n",
    "                  metrics=[tf.keras.metrics.AUC(name='auc')])\n"
   ]
  },
  {
   "cell_type": "code",
   "execution_count": 22,
   "metadata": {
    "execution": {
     "iopub.execute_input": "2020-08-12T14:31:48.916717Z",
     "iopub.status.busy": "2020-08-12T14:31:48.915564Z",
     "iopub.status.idle": "2020-08-12T14:31:51.693609Z",
     "shell.execute_reply": "2020-08-12T14:31:51.692827Z"
    },
    "papermill": {
     "duration": 2.862164,
     "end_time": "2020-08-12T14:31:51.693754",
     "exception": false,
     "start_time": "2020-08-12T14:31:48.831590",
     "status": "completed"
    },
    "tags": []
   },
   "outputs": [],
   "source": [
    "ds_train = getTrainDataset(filenames_train, cfg).map(lambda img, label: (img, (label, label, label)))\n",
    "stepsTrain = count_data_items(filenames_train) /(cfg['batch_size'] * strategy.num_replicas_in_sync)"
   ]
  },
  {
   "cell_type": "code",
   "execution_count": 23,
   "metadata": {
    "execution": {
     "iopub.execute_input": "2020-08-12T14:31:51.844060Z",
     "iopub.status.busy": "2020-08-12T14:31:51.843272Z",
     "iopub.status.idle": "2020-08-12T14:31:51.846926Z",
     "shell.execute_reply": "2020-08-12T14:31:51.846195Z"
    },
    "papermill": {
     "duration": 0.08117,
     "end_time": "2020-08-12T14:31:51.847094",
     "exception": false,
     "start_time": "2020-08-12T14:31:51.765924",
     "status": "completed"
    },
    "tags": []
   },
   "outputs": [],
   "source": [
    "#early_stopping = tf.keras.callbacks.EarlyStopping(monitor = 'val_auc', mode = 'max', patience = 4, \n",
    "#                                                 verbose = 1, min_delta = 0.0001, restore_best_weights = True)\n",
    "callbacks = [getLearnRateCallback(cfg)]"
   ]
  },
  {
   "cell_type": "code",
   "execution_count": 24,
   "metadata": {
    "execution": {
     "iopub.execute_input": "2020-08-12T14:31:52.051998Z",
     "iopub.status.busy": "2020-08-12T14:31:52.046116Z",
     "iopub.status.idle": "2020-08-12T16:27:25.881113Z",
     "shell.execute_reply": "2020-08-12T16:27:25.881671Z"
    },
    "papermill": {
     "duration": 6933.955674,
     "end_time": "2020-08-12T16:27:25.881885",
     "exception": false,
     "start_time": "2020-08-12T14:31:51.926211",
     "status": "completed"
    },
    "tags": []
   },
   "outputs": [
    {
     "name": "stdout",
     "output_type": "stream",
     "text": [
      "Epoch 1/14\n",
      "185/184 [==============================] - 448s 2s/step - dense_1_auc: 0.7429 - dense_auc: 0.7473 - loss: 1.5539 - dense_loss: 0.4922 - dense_2_loss: 0.5044 - dense_1_loss: 0.5573 - dense_2_auc: 0.7347 - lr: 5.0000e-06\n",
      "Epoch 2/14\n",
      "185/184 [==============================] - 457s 2s/step - dense_1_auc: 0.8208 - dense_auc: 0.8375 - loss: 0.8777 - dense_loss: 0.2882 - dense_2_loss: 0.2943 - dense_1_loss: 0.2952 - dense_2_auc: 0.8223 - lr: 6.8000e-05\n",
      "Epoch 3/14\n",
      "185/184 [==============================] - 457s 2s/step - dense_1_auc: 0.8997 - dense_auc: 0.9011 - loss: 0.7705 - dense_loss: 0.2557 - dense_2_loss: 0.2577 - dense_1_loss: 0.2571 - dense_2_auc: 0.9000 - lr: 1.3100e-04\n",
      "Epoch 4/14\n",
      "185/184 [==============================] - 457s 2s/step - dense_1_auc: 0.9205 - dense_auc: 0.9211 - loss: 0.7282 - dense_loss: 0.2417 - dense_2_loss: 0.2445 - dense_1_loss: 0.2421 - dense_2_auc: 0.9158 - lr: 1.9400e-04\n",
      "Epoch 5/14\n",
      "185/184 [==============================] - 457s 2s/step - dense_1_auc: 0.9287 - dense_auc: 0.9269 - loss: 0.7092 - dense_loss: 0.2372 - dense_2_loss: 0.2368 - dense_1_loss: 0.2352 - dense_2_auc: 0.9277 - lr: 2.5700e-04\n",
      "Epoch 6/14\n",
      "185/184 [==============================] - 458s 2s/step - dense_1_auc: 0.9397 - dense_auc: 0.9358 - loss: 0.6947 - dense_loss: 0.2318 - dense_2_loss: 0.2340 - dense_1_loss: 0.2289 - dense_2_auc: 0.9322 - lr: 3.2000e-04\n",
      "Epoch 7/14\n",
      "185/184 [==============================] - 456s 2s/step - dense_1_auc: 0.9395 - dense_auc: 0.9376 - loss: 0.6913 - dense_loss: 0.2292 - dense_2_loss: 0.2333 - dense_1_loss: 0.2288 - dense_2_auc: 0.9343 - lr: 2.5620e-04\n",
      "Epoch 8/14\n",
      "185/184 [==============================] - 458s 2s/step - dense_1_auc: 0.9473 - dense_auc: 0.9442 - loss: 0.6701 - dense_loss: 0.2222 - dense_2_loss: 0.2251 - dense_1_loss: 0.2229 - dense_2_auc: 0.9441 - lr: 2.0516e-04\n",
      "Epoch 9/14\n",
      "185/184 [==============================] - 458s 2s/step - dense_1_auc: 0.9459 - dense_auc: 0.9461 - loss: 0.6707 - dense_loss: 0.2222 - dense_2_loss: 0.2272 - dense_1_loss: 0.2213 - dense_2_auc: 0.9393 - lr: 1.6433e-04\n",
      "Epoch 10/14\n",
      "185/184 [==============================] - 458s 2s/step - dense_1_auc: 0.9516 - dense_auc: 0.9483 - loss: 0.6599 - dense_loss: 0.2188 - dense_2_loss: 0.2232 - dense_1_loss: 0.2178 - dense_2_auc: 0.9416 - lr: 1.3166e-04\n",
      "Epoch 11/14\n",
      "185/184 [==============================] - 457s 2s/step - dense_1_auc: 0.9529 - dense_auc: 0.9506 - loss: 0.6526 - dense_loss: 0.2171 - dense_2_loss: 0.2207 - dense_1_loss: 0.2149 - dense_2_auc: 0.9466 - lr: 1.0553e-04\n",
      "Epoch 12/14\n",
      "185/184 [==============================] - 458s 2s/step - dense_1_auc: 0.9608 - dense_auc: 0.9561 - loss: 0.6415 - dense_loss: 0.2138 - dense_2_loss: 0.2173 - dense_1_loss: 0.2104 - dense_2_auc: 0.9532 - lr: 8.4624e-05\n",
      "Epoch 13/14\n",
      "185/184 [==============================] - 458s 2s/step - dense_1_auc: 0.9633 - dense_auc: 0.9614 - loss: 0.6293 - dense_loss: 0.2093 - dense_2_loss: 0.2125 - dense_1_loss: 0.2075 - dense_2_auc: 0.9588 - lr: 6.7899e-05\n",
      "Epoch 14/14\n",
      "185/184 [==============================] - 457s 2s/step - dense_1_auc: 0.9652 - dense_auc: 0.9642 - loss: 0.6250 - dense_loss: 0.2080 - dense_2_loss: 0.2090 - dense_1_loss: 0.2080 - dense_2_auc: 0.9614 - lr: 5.4519e-05\n"
     ]
    }
   ],
   "source": [
    "history = model.fit(ds_train,\n",
    "                    validation_data  = None,\n",
    "                    verbose=1,\n",
    "                    steps_per_epoch  = stepsTrain,\n",
    "                    validation_steps = 0,\n",
    "                    epochs=14,\n",
    "                    callbacks=callbacks)"
   ]
  },
  {
   "cell_type": "code",
   "execution_count": 25,
   "metadata": {
    "execution": {
     "iopub.execute_input": "2020-08-12T16:27:28.175734Z",
     "iopub.status.busy": "2020-08-12T16:27:28.174835Z",
     "iopub.status.idle": "2020-08-12T16:27:28.944923Z",
     "shell.execute_reply": "2020-08-12T16:27:28.944139Z"
    },
    "papermill": {
     "duration": 1.950988,
     "end_time": "2020-08-12T16:27:28.945058",
     "exception": false,
     "start_time": "2020-08-12T16:27:26.994070",
     "status": "completed"
    },
    "tags": []
   },
   "outputs": [
    {
     "name": "stdout",
     "output_type": "stream",
     "text": [
      "WARNING: AutoGraph could not transform <function <lambda> at 0x7fe6e87919e0> and will run it as-is.\n",
      "Please report this to the TensorFlow team. When filing the bug, set the verbosity to 10 (on Linux, `export AUTOGRAPH_VERBOSITY=10`) and attach the full output.\n",
      "Cause: Unable to identify source code of lambda function <function <lambda> at 0x7fe6e87919e0>. It was defined on this line: repeat=True, which must contain a single lambda with matching signature. To avoid ambiguity, define each lambda in a separate expression.\n",
      "To silence this warning, decorate the function with @tf.autograph.experimental.do_not_convert\n"
     ]
    }
   ],
   "source": [
    "steps = count_data_items(filenames_test) / (cfg['batch_size'] * strategy.num_replicas_in_sync)\n",
    "z = np.zeros((cfg['batch_size'] * strategy.num_replicas_in_sync))\n",
    "\n",
    "ds_testAug = getTestDataset(filenames_test, cfg, augment=True,\n",
    "    repeat=True).map(lambda img, label: (img, (z, z, z)))\n"
   ]
  },
  {
   "cell_type": "code",
   "execution_count": 26,
   "metadata": {
    "execution": {
     "iopub.execute_input": "2020-08-12T16:27:31.182864Z",
     "iopub.status.busy": "2020-08-12T16:27:31.182025Z",
     "iopub.status.idle": "2020-08-12T16:36:16.397795Z",
     "shell.execute_reply": "2020-08-12T16:36:16.395892Z"
    },
    "papermill": {
     "duration": 526.335416,
     "end_time": "2020-08-12T16:36:16.397962",
     "exception": false,
     "start_time": "2020-08-12T16:27:30.062546",
     "status": "completed"
    },
    "tags": []
   },
   "outputs": [
    {
     "name": "stdout",
     "output_type": "stream",
     "text": [
      "858/857 [==============================] - 473s 551ms/step\n"
     ]
    }
   ],
   "source": [
    "probs = model.predict(ds_testAug, verbose=1, steps=steps * cfg['tta_steps'])\n",
    "probs = np.stack(probs)\n",
    "probs = probs[:, :count_data_items(filenames_test) * cfg['tta_steps']]\n",
    "probs = np.stack(np.split(probs, cfg['tta_steps'], axis=1), axis=1)\n",
    "probs = np.mean(probs, axis=1)"
   ]
  },
  {
   "cell_type": "code",
   "execution_count": 27,
   "metadata": {
    "execution": {
     "iopub.execute_input": "2020-08-12T16:36:19.367027Z",
     "iopub.status.busy": "2020-08-12T16:36:19.364583Z",
     "iopub.status.idle": "2020-08-12T16:36:59.428217Z",
     "shell.execute_reply": "2020-08-12T16:36:59.427386Z"
    },
    "papermill": {
     "duration": 41.582976,
     "end_time": "2020-08-12T16:36:59.428355",
     "exception": false,
     "start_time": "2020-08-12T16:36:17.845379",
     "status": "completed"
    },
    "tags": []
   },
   "outputs": [
    {
     "name": "stderr",
     "output_type": "stream",
     "text": [
      "10982it [00:39, 280.50it/s]\n"
     ]
    }
   ],
   "source": [
    "y_test_sorted = np.zeros((3, probs.shape[1]))\n",
    "test = test.reset_index()\n",
    "test = test.set_index('image_name')\n",
    "\n",
    "i = 0\n",
    "ds_test = getTestDataset(filenames_test, cfg)\n",
    "for img, imgid in tqdm(iter(ds_test.unbatch())):\n",
    "    imgid = imgid.numpy().decode('utf-8')\n",
    "    y_test_sorted[:, test.loc[imgid]['index']] = probs[:, i, 0]\n",
    "    i += 1\n",
    "\n",
    "for i in range(y_test_sorted.shape[0]):\n",
    "    submission = sample\n",
    "    submission['target'] = y_test_sorted[i]\n",
    "    submission.to_csv('submission_model_%s.csv' % i, index=False)\n",
    "\n",
    "submission = sample\n",
    "submission['target'] = np.mean(y_test_sorted, axis=0)\n",
    "submission.to_csv('blended_effnets.csv', index=False)"
   ]
  },
  {
   "cell_type": "code",
   "execution_count": 28,
   "metadata": {
    "execution": {
     "iopub.execute_input": "2020-08-12T16:37:02.599638Z",
     "iopub.status.busy": "2020-08-12T16:37:02.598579Z",
     "iopub.status.idle": "2020-08-12T16:37:06.107323Z",
     "shell.execute_reply": "2020-08-12T16:37:06.106515Z"
    },
    "papermill": {
     "duration": 5.107801,
     "end_time": "2020-08-12T16:37:06.107450",
     "exception": false,
     "start_time": "2020-08-12T16:37:00.999649",
     "status": "completed"
    },
    "tags": []
   },
   "outputs": [],
   "source": [
    "!gzip submission_model_0.csv\n",
    "!gzip submission_model_1.csv\n",
    "!gzip submission_model_2.csv\n",
    "!gzip blended_effnets.csv"
   ]
  },
  {
   "cell_type": "code",
   "execution_count": null,
   "metadata": {
    "papermill": {
     "duration": 1.606307,
     "end_time": "2020-08-12T16:37:09.323829",
     "exception": false,
     "start_time": "2020-08-12T16:37:07.717522",
     "status": "completed"
    },
    "tags": []
   },
   "outputs": [],
   "source": []
  }
 ],
 "metadata": {
  "kernelspec": {
   "display_name": "Python 3",
   "language": "python",
   "name": "python3"
  },
  "language_info": {
   "codemirror_mode": {
    "name": "ipython",
    "version": 3
   },
   "file_extension": ".py",
   "mimetype": "text/x-python",
   "name": "python",
   "nbconvert_exporter": "python",
   "pygments_lexer": "ipython3",
   "version": "3.7.3"
  },
  "papermill": {
   "duration": 7701.705383,
   "end_time": "2020-08-12T16:37:11.148545",
   "environment_variables": {},
   "exception": null,
   "input_path": "__notebook__.ipynb",
   "output_path": "__notebook__.ipynb",
   "parameters": {},
   "start_time": "2020-08-12T14:28:49.443162",
   "version": "2.1.0"
  }
 },
 "nbformat": 4,
 "nbformat_minor": 4
}
